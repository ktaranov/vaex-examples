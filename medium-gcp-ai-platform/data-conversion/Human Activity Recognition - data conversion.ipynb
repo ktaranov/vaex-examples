{
 "cells": [
  {
   "cell_type": "markdown",
   "metadata": {},
   "source": [
    "### Obtaining the raw Heterogeneity Activity Recognition (HAR) dataset and converting it for a memory mappable format\n",
    "\n",
    "Data can be downloaded from [this link](https://archive.ics.uci.edu/ml/datasets/Heterogeneity+Activity+Recognition).\n",
    "\n",
    "The data is in a zip archive, in multiple CSV files. To get the most out of Vaex, it is best if the data is in memory mappable file format. \n",
    "\n",
    "This short notebook shows how easy this is."
   ]
  },
  {
   "cell_type": "code",
   "execution_count": 1,
   "metadata": {
    "ExecuteTime": {
     "end_time": "2020-10-13T13:38:03.741880Z",
     "start_time": "2020-10-13T13:38:01.709807Z"
    }
   },
   "outputs": [],
   "source": [
    "from glob import glob\n",
    "\n",
    "import vaex"
   ]
  },
  {
   "cell_type": "markdown",
   "metadata": {},
   "source": [
    "Make a list of files to be converted. "
   ]
  },
  {
   "cell_type": "code",
   "execution_count": 2,
   "metadata": {
    "ExecuteTime": {
     "end_time": "2020-10-13T13:38:03.748470Z",
     "start_time": "2020-10-13T13:38:03.744271Z"
    }
   },
   "outputs": [],
   "source": [
    "csv_files = glob('./data/raw_data/*.csv')"
   ]
  },
  {
   "cell_type": "markdown",
   "metadata": {},
   "source": [
    "Converting a CSV to the memory mappable HDF5 file format is easy: all we need to do is specify the `convert=True` key word argument in `vaex.read_csv`. The `convert` keyword can also accept a string corresponding to the path and file name of the converted file. The `vaex.read_csv` method wraps around `pandas.read_csv` so we use all the options Pandas provides.\n",
    "\n",
    "If the CSV file is too big to fit into memory, it is read in chunks. The chunks are exported to HDF5, and when the whole CSV is read, the chunks are concatenated into a single file HDF5 file, and the intermediate files are deleted. All this is handled behind the scenes by Vaex, so we do not have to worry about it at all.  "
   ]
  },
  {
   "cell_type": "code",
   "execution_count": 3,
   "metadata": {
    "ExecuteTime": {
     "end_time": "2020-10-13T13:38:03.835069Z",
     "start_time": "2020-10-13T13:38:03.751536Z"
    }
   },
   "outputs": [],
   "source": [
    "for file in csv_files:\n",
    "    df = vaex.read_csv(file, convert=True)"
   ]
  },
  {
   "cell_type": "markdown",
   "metadata": {},
   "source": [
    "We can check that the files were successfully converted"
   ]
  },
  {
   "cell_type": "code",
   "execution_count": 4,
   "metadata": {
    "ExecuteTime": {
     "end_time": "2020-10-13T13:38:03.965866Z",
     "start_time": "2020-10-13T13:38:03.837111Z"
    }
   },
   "outputs": [
    {
     "name": "stdout",
     "output_type": "stream",
     "text": [
      "Phones_accelerometer.csv      Watch_accelerometer.csv.hdf5\r\n",
      "Phones_accelerometer.csv.hdf5 Watch_gyroscope.csv\r\n",
      "Phones_gyroscope.csv          Watch_gyroscope.csv.hdf5\r\n",
      "Phones_gyroscope.csv.hdf5     readme.txt\r\n",
      "Watch_accelerometer.csv\r\n"
     ]
    }
   ],
   "source": [
    "!ls ./data/raw_data/"
   ]
  },
  {
   "cell_type": "markdown",
   "metadata": {},
   "source": [
    "Note that when when try to open a file that has already been converted from CSV to HDF5, we can use the same `vaex.read_csv` method with the `convert=True` keyword specified. Vaex will first check whether the conversion has already been done, and if it has, it will open the HDF5 file right away!"
   ]
  },
  {
   "cell_type": "code",
   "execution_count": 5,
   "metadata": {
    "ExecuteTime": {
     "end_time": "2020-10-13T13:38:04.015201Z",
     "start_time": "2020-10-13T13:38:03.969857Z"
    }
   },
   "outputs": [
    {
     "name": "stdout",
     "output_type": "stream",
     "text": [
      "CPU times: user 3 µs, sys: 1e+03 ns, total: 4 µs\n",
      "Wall time: 6.91 µs\n"
     ]
    }
   ],
   "source": [
    "%time\n",
    "file_to_open = './data/raw_data/Phones_accelerometer.csv'\n",
    "df = vaex.read_csv(file_to_open, convert=True)"
   ]
  },
  {
   "cell_type": "markdown",
   "metadata": {},
   "source": [
    "We are now ready to explore and work with these data! \n",
    "For example let's see all the possible activities, and how many of them there are:"
   ]
  },
  {
   "cell_type": "code",
   "execution_count": 6,
   "metadata": {
    "ExecuteTime": {
     "end_time": "2020-10-13T13:38:04.531182Z",
     "start_time": "2020-10-13T13:38:04.017355Z"
    }
   },
   "outputs": [
    {
     "data": {
      "text/plain": [
       "missing         83125\n",
       "              2620183\n",
       "walk          2019792\n",
       "sit           1827626\n",
       "stand         1719765\n",
       "bike          1702316\n",
       "stairsup      1619212\n",
       "stairsdown    1470456\n",
       "dtype: int64"
      ]
     },
     "execution_count": 6,
     "metadata": {},
     "output_type": "execute_result"
    }
   ],
   "source": [
    "df.gt.value_counts()"
   ]
  },
  {
   "cell_type": "markdown",
   "metadata": {
    "ExecuteTime": {
     "end_time": "2020-10-13T13:07:40.182634Z",
     "start_time": "2020-10-13T13:07:40.169144Z"
    }
   },
   "source": [
    "Finally, let's get the distribution of the x-axis for each of the activities:"
   ]
  },
  {
   "cell_type": "code",
   "execution_count": 7,
   "metadata": {
    "ExecuteTime": {
     "end_time": "2020-10-13T13:38:04.539361Z",
     "start_time": "2020-10-13T13:38:04.532978Z"
    }
   },
   "outputs": [],
   "source": [
    "# Handle missing values\n",
    "df['gt'] = df.gt.fillna('none')\n",
    "# # Handle empty strings\n",
    "df['gt'] = df.func.where(df.gt == '', 'none', df.gt)"
   ]
  },
  {
   "cell_type": "code",
   "execution_count": 8,
   "metadata": {
    "ExecuteTime": {
     "end_time": "2020-10-13T13:38:09.643546Z",
     "start_time": "2020-10-13T13:38:04.541756Z"
    }
   },
   "outputs": [],
   "source": [
    "# Get all the activities\n",
    "activities = df.gt.unique().tolist()"
   ]
  },
  {
   "cell_type": "code",
   "execution_count": 9,
   "metadata": {
    "ExecuteTime": {
     "end_time": "2020-10-13T13:38:57.610385Z",
     "start_time": "2020-10-13T13:38:09.645432Z"
    }
   },
   "outputs": [
    {
     "data": {
      "image/png": "[encoded data removed]",
      "text/plain": [
       "<Figure size 648x432 with 1 Axes>"
      ]
     },
     "metadata": {
      "needs_background": "light"
     },
     "output_type": "display_data"
    }
   ],
   "source": [
    "import pylab as plt\n",
    "plt.figure(figsize=(9, 6))\n",
    "for activity in activities:\n",
    "    df.plot1d('x', selection=f'gt==\"{activity}\"', label=activity)\n",
    "plt.legend(fontsize=12)\n",
    "plt.show()\n"
   ]
  },
  {
   "cell_type": "markdown",
   "metadata": {},
   "source": [
    "Have fun exploring this dataset!"
   ]
  }
 ],
 "metadata": {
  "kernelspec": {
   "display_name": "Python 3",
   "language": "python",
   "name": "python3"
  },
  "language_info": {
   "codemirror_mode": {
    "name": "ipython",
    "version": 3
   },
   "file_extension": ".py",
   "mimetype": "text/x-python",
   "name": "python",
   "nbconvert_exporter": "python",
   "pygments_lexer": "ipython3",
   "version": "3.7.8"
  }
 },
 "nbformat": 4,
 "nbformat_minor": 4
}
